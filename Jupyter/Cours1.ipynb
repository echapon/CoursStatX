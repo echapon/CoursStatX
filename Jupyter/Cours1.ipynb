{
 "cells": [
  {
   "cell_type": "markdown",
   "metadata": {},
   "source": [
    "# Class 1 (September 20)"
   ]
  },
  {
   "cell_type": "code",
   "execution_count": null,
   "metadata": {},
   "outputs": [],
   "source": [
    "import ROOT\n",
    "import math\n",
    "ROOT.gStyle.SetOptStat(1100)\n",
    "ROOT.gStyle.SetOptTitle(0)"
   ]
  },
  {
   "cell_type": "markdown",
   "metadata": {},
   "source": [
    "## Discrete laws"
   ]
  },
  {
   "cell_type": "markdown",
   "metadata": {},
   "source": [
    "### Binomial law\n",
    "\n",
    "$$P(n) = B(n;N,p) = \\left( ^N_n \\right) p^n (1-p)^{N-n}$$"
   ]
  },
  {
   "cell_type": "code",
   "execution_count": null,
   "metadata": {},
   "outputs": [],
   "source": [
    "N = 10\n",
    "p = 0.5\n",
    "\n",
    "hbl = ROOT.TH1F(\"hbl\",\"binomial law\",N+1,-0.5,N+1-0.5)\n",
    "for n in range(0,N+1):\n",
    "    ii = n+1\n",
    "    hbl.SetBinContent(ii,ROOT.TMath.BinomialI(p,N,n)-ROOT.TMath.BinomialI(p,N,n+1))\n",
    "\n",
    "cbl = ROOT.TCanvas()\n",
    "hbl.Draw()\n",
    "cbl.Draw()"
   ]
  },
  {
   "cell_type": "markdown",
   "metadata": {},
   "source": [
    "### Multinomial law\n",
    "\n",
    "$$P(n_1,n_2,\\dots,n_K) = \\frac{N!}{n_1! \\dots n_K!} p_1^{n_1} \\dots p_K^{n_K} = \\frac{N!}{\\prod_{i=1}^{K} n_i!} \\prod_{i=1}^K p_i^{n_i}$$"
   ]
  },
  {
   "cell_type": "markdown",
   "metadata": {},
   "source": [
    "### Poisson law\n",
    "\n",
    "$$P_\\mu(n) = \\frac{\\mu^n e^{-\\mu}}{n!}$$"
   ]
  },
  {
   "cell_type": "code",
   "execution_count": null,
   "metadata": {},
   "outputs": [],
   "source": [
    "mu = 4\n",
    "\n",
    "xmin = max(0,int(mu-5*math.sqrt(mu)))\n",
    "xmax = int(mu+5*math.sqrt(mu))\n",
    "nbins = xmax-xmin\n",
    "\n",
    "hpois = ROOT.TH1F(\"hpois\",\"Poisson law\",nbins,xmin-0.5,xmax-0.5)\n",
    "for i in range(1,nbins+1):\n",
    "    n = hpois.GetBinCenter(i)\n",
    "    hpois.SetBinContent(i,ROOT.TMath.PoissonI(n,mu))\n",
    "\n",
    "cpois = ROOT.TCanvas()\n",
    "hpois.Draw()\n",
    "cpois.Draw()"
   ]
  },
  {
   "cell_type": "markdown",
   "metadata": {},
   "source": [
    "### Sum of Poisson laws"
   ]
  },
  {
   "cell_type": "code",
   "execution_count": null,
   "metadata": {},
   "outputs": [],
   "source": [
    "mu1 = 1.5\n",
    "mu2 = 2.5\n",
    "mu = mu1 + mu2\n",
    "\n",
    "xmin = max(0,int(mu-5*math.sqrt(mu)))\n",
    "xmax = int(mu+5*math.sqrt(mu))\n",
    "nbins = xmax-xmin\n",
    "\n",
    "hpois1 = ROOT.TH1F(\"hpois1\",\"Poisson law 1\",nbins,xmin-0.5,xmax-0.5)\n",
    "hpois2 = ROOT.TH1F(\"hpois2\",\"Poisson law 2\",nbins,xmin-0.5,xmax-0.5)\n",
    "\n",
    "for i in range(0,100000):\n",
    "    hpois1.Fill(ROOT.gRandom.Poisson(mu1)+ROOT.gRandom.Poisson(mu2))\n",
    "    hpois2.Fill(ROOT.gRandom.Poisson(mu))\n",
    "\n",
    "cpois = ROOT.TCanvas()\n",
    "hpois1.SetFillColor(ROOT.kRed)\n",
    "hpois1.SetLineColor(ROOT.kRed)\n",
    "hpois1.Draw(\"hist F\")\n",
    "hpois2.SetLineColor(ROOT.kBlue)\n",
    "hpois2.Draw(\"hist same\")\n",
    "cpois.Draw()"
   ]
  },
  {
   "cell_type": "markdown",
   "metadata": {},
   "source": [
    "## Continuous law"
   ]
  },
  {
   "cell_type": "markdown",
   "metadata": {},
   "source": [
    "### Exponential law\n",
    "\n",
    "$$f_\\tau (t) = \\frac{1}{\\tau} e^{-t/\\tau}$$"
   ]
  },
  {
   "cell_type": "code",
   "execution_count": null,
   "metadata": {},
   "outputs": [],
   "source": [
    "fexp = ROOT.TF1(\"fexp\",\"(1/[0])*exp(-x/[0])\",0,10)\n",
    "fexp.SetParameter(0,2)\n",
    "\n",
    "cexp = ROOT.TCanvas()\n",
    "fexp.Draw()\n",
    "cexp.Draw()"
   ]
  },
  {
   "cell_type": "markdown",
   "metadata": {},
   "source": [
    "### Normal law\n",
    "\n",
    "$$f_{\\mu,\\sigma} (x) = \\frac{1}{\\sqrt{2\\pi} \\sigma} e^{-\\frac{(x-\\mu)^2}{2\\sigma^2}}$$"
   ]
  },
  {
   "cell_type": "code",
   "execution_count": null,
   "metadata": {},
   "outputs": [],
   "source": [
    "fgaus = ROOT.TF1(\"fgaus\",\"TMath::Gaus(x,[0],[1],kTRUE)\",-10,10)\n",
    "mean = 0\n",
    "sigma = 2\n",
    "fgaus.SetParameter(0,mean)\n",
    "fgaus.SetParameter(1,sigma)\n",
    "\n",
    "cgaus = ROOT.TCanvas()\n",
    "fgaus.Draw()\n",
    "cgaus.Draw()"
   ]
  },
  {
   "cell_type": "markdown",
   "metadata": {},
   "source": [
    "## Central limit theorem"
   ]
  },
  {
   "cell_type": "code",
   "execution_count": null,
   "metadata": {},
   "outputs": [],
   "source": [
    "# number of trials to include in the sum\n",
    "nsum = 1\n",
    "\n",
    "# number of toy experiments\n",
    "ntoys = 50000\n",
    "\n",
    "# The pdf\n",
    "func = ROOT.TF1(\"uniform\",\"(x<-4)+(x>4)\",-10,10)\n",
    "#func = ROOT.TF1(\"quadratic\",\"x*x\",-10,10)\n",
    "#func = ROOT.TF1(\"Cauchy\",\"TMath::CauchyDist(x)\",-10,10)\n",
    "#func = ROOT.TF1(\"Cauchy\",\"TMath::Gaus(x,2,1)\",-10,10)\n",
    "\n",
    "# other declarations\n",
    "histo = ROOT.TH1F(\"histo_%d_%d\" % (ntoys,nsum),\";x;Entries\",200,-10,10)\n",
    "c1 = ROOT.TCanvas()\n",
    "gRandom = ROOT.TRandom3()\n",
    "\n",
    "# loop\n",
    "for itoy in range(0,ntoys):\n",
    "    xsum = 0\n",
    "    # draw (nsum) numbers and compute the sample mean\n",
    "    for isum in range(0,nsum):\n",
    "        xsum = xsum + func.GetRandom()/nsum\n",
    "    histo.Fill(xsum)\n",
    "\n",
    "# draw results\n",
    "histo.Draw()\n",
    "c1.Draw()"
   ]
  },
  {
   "cell_type": "code",
   "execution_count": null,
   "metadata": {},
   "outputs": [],
   "source": []
  }
 ],
 "metadata": {
  "celltoolbar": "Raw Cell Format",
  "kernelspec": {
   "display_name": "Python 2",
   "language": "python",
   "name": "python2"
  },
  "language_info": {
   "codemirror_mode": {
    "name": "ipython",
    "version": 2
   },
   "file_extension": ".py",
   "mimetype": "text/x-python",
   "name": "python",
   "nbconvert_exporter": "python",
   "pygments_lexer": "ipython2",
   "version": "2.7.12"
  }
 },
 "nbformat": 4,
 "nbformat_minor": 2
}
