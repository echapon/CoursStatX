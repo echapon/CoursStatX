{
 "cells": [
  {
   "cell_type": "code",
   "execution_count": 1,
   "metadata": {},
   "outputs": [
    {
     "data": {
      "application/javascript": [
       "\n",
       "require(['notebook'],\n",
       "  function() {\n",
       "    IPython.CodeCell.config_defaults.highlight_modes['magic_text/x-c++src'] = {'reg':[/^%%cpp/]};\n",
       "    console.log(\"JupyROOT - %%cpp magic configured\");\n",
       "  }\n",
       ");\n"
      ]
     },
     "metadata": {},
     "output_type": "display_data"
    },
    {
     "name": "stdout",
     "output_type": "stream",
     "text": [
      "Welcome to JupyROOT 6.08/06\n"
     ]
    }
   ],
   "source": [
    "# imports\n",
    "from scipy import optimize, math\n",
    "import numpy\n",
    "import ROOT\n",
    "from array import array"
   ]
  },
  {
   "cell_type": "code",
   "execution_count": 2,
   "metadata": {},
   "outputs": [],
   "source": [
    "###############\n",
    "# DEFINITIONS #\n",
    "###############\n",
    "\n",
    "# Poisson prob\n",
    "def prob_poisson(n,mu):\n",
    "    if mu<=0 or n<0: \n",
    "        return 0\n",
    "    else:\n",
    "        p = 1.0\n",
    "        for i in range(0,len(n)):\n",
    "            nn = int(n[i])\n",
    "            p = p * (mu**nn)*math.exp(-mu)/math.factorial(nn) \n",
    "        return p\n",
    "\n",
    "# Poisson LH\n",
    "def lh_poisson(mu, *args):\n",
    "    n = args[0]\n",
    "    lh = prob_poisson(n,mu)\n",
    "    if lh>0:\n",
    "        return -2.0*math.log(lh)\n",
    "    else:\n",
    "        return 1e99\n",
    "    \n",
    "# least squares\n",
    "def ls_poisson(mu, *args):\n",
    "    if mu<=0:\n",
    "        return 0\n",
    "    n = args[0]\n",
    "    q = 0\n",
    "    for i in range(0,len(n)):\n",
    "        nn = int(n[i])\n",
    "        q = q + ((nn-mu)**2)/mu\n",
    "    return q\n",
    "\n",
    "# binned chi2, expected uncertainties\n",
    "def chi2_poisson(mu, *args):\n",
    "    if (mu<=0):\n",
    "        return 1e99\n",
    "    hist = args[0]\n",
    "    q = 0\n",
    "    ntot = hist.GetEntries()\n",
    "    for i in range(1,hist.GetNbinsX()+1):\n",
    "        bc = int(hist.GetBinCenter(i))\n",
    "        fi = ntot*prob_poisson((bc,),mu)\n",
    "        if fi>0:\n",
    "            di = hist.GetBinContent(i)\n",
    "            q = q + (di-fi)**2/fi**2\n",
    "    return q\n",
    "\n",
    "# binned chi2, observed uncertainties\n",
    "def mchi2_poisson(mu, *args):\n",
    "    if (mu<=0):\n",
    "        return 1e99\n",
    "    hist = args[0]\n",
    "    q = 0\n",
    "    ntot = hist.GetEntries()\n",
    "    for i in range(1,hist.GetNbinsX()+1):\n",
    "        bc = int(hist.GetBinCenter(i))\n",
    "        di = hist.GetBinContent(i)\n",
    "        if di>0:\n",
    "            fi = ntot*prob_poisson((bc,),mu)\n",
    "            q = q + (di-fi)**2/di**2\n",
    "    return q\n",
    "\n",
    "# binned likelihood, multinomial data\n",
    "def binned_lh_poisson(mu, *args):\n",
    "    if (mu<=0):\n",
    "        return 1e99\n",
    "    hist = args[0]\n",
    "    q = 0\n",
    "    ntot = hist.GetEntries()\n",
    "    for i in range(1,hist.GetNbinsX()+1):\n",
    "        bc = int(hist.GetBinCenter(i))\n",
    "        di = hist.GetBinContent(i)\n",
    "        fi = ntot*prob_poisson((bc,),mu)\n",
    "        if di>0 and fi>0:\n",
    "            q = q + 2*(di*math.log(di/fi))\n",
    "    return q"
   ]
  },
  {
   "cell_type": "code",
   "execution_count": 3,
   "metadata": {},
   "outputs": [
    {
     "data": {
      "image/png": "[encoded data removed]",
      "text/plain": [
       "<IPython.core.display.Image object>"
      ]
     },
     "metadata": {},
     "output_type": "display_data"
    }
   ],
   "source": [
    "################\n",
    "# MAIN PROGRAM #\n",
    "################\n",
    "\n",
    "# constants\n",
    "mu0=3.5\n",
    "ntrials=100\n",
    "\n",
    "# derived constants\n",
    "xmin=max(0,int(mu0-5.*math.sqrt(mu0)))\n",
    "xmax=int(mu0+5.*math.sqrt(mu0))\n",
    "nbins=xmax-xmin\n",
    "\n",
    "# lists to be used to plot the graphs\n",
    "ntoys = []\n",
    "dntoys = []\n",
    "crbounds = []\n",
    "\n",
    "# list of methods\n",
    "means = {}\n",
    "dmeans = {}\n",
    "variances = {}\n",
    "dvariances = {}\n",
    "biases = {}\n",
    "methods = [\"LS\",\"MLE\",\"moments\",\"chi2\",\"mchi2\",\"binnedLH\"]\n",
    "for meth in methods:\n",
    "    means[meth] = []\n",
    "    dmeans[meth] = []\n",
    "    variances[meth] = []\n",
    "    dvariances[meth] = []\n",
    "    biases[meth] = []\n",
    "\n",
    "rnd = ROOT.TRandom3()\n",
    "\n",
    "# loop on the number of toys\n",
    "for nt in [1,2,3,5,10,20,30,50]:\n",
    "    ntoys.append(nt)\n",
    "    dntoys.append(0)\n",
    "    crbounds.append(1./(nt*(1./mu0)))\n",
    "\n",
    "    # trials\n",
    "    estimates = {}\n",
    "    for meth in methods:\n",
    "        estimates[meth] = []\n",
    "        \n",
    "    for i in range(0,ntrials):\n",
    "        # toy generation\n",
    "        toys = []\n",
    "        htoys = ROOT.TH1I(\"htoys\",\"\",nbins,xmin,xmax)\n",
    "        for it in range(0,nt):\n",
    "            toy = rnd.Poisson(mu0)\n",
    "            toys.append(toy)\n",
    "            htoys.Fill(toy)\n",
    "\n",
    "        for meth in methods:\n",
    "            result=0\n",
    "            if meth==\"MLE\":    \n",
    "                # maximum likelihood estimate\n",
    "                result = optimize.fmin(lh_poisson,mu0,args=(toys,),disp=False)\n",
    "            elif meth==\"LS\":\n",
    "                # least squares estimate\n",
    "                result = optimize.fmin(ls_poisson,mu0,args=(toys,),disp=False)\n",
    "            elif meth==\"moments\":\n",
    "                result = numpy.mean(toys)\n",
    "            elif meth==\"chi2\":\n",
    "                result = optimize.fmin(chi2_poisson,mu0,args=(htoys,),disp=False)\n",
    "            elif meth==\"mchi2\":\n",
    "                result = optimize.fmin(mchi2_poisson,mu0,args=(htoys,),disp=False)\n",
    "            elif meth==\"binnedLH\":\n",
    "                result = optimize.fmin(binned_lh_poisson,mu0,args=(htoys,),disp=False)\n",
    "                \n",
    "            estimates[meth].append(result)\n",
    "                \n",
    "        # delete the histogram... except if it is the last one\n",
    "        if nt<50 or i<ntrials-1:\n",
    "            del htoys\n",
    "        else:\n",
    "            chist = ROOT.TCanvas(\"chist\",\"\")\n",
    "            htoys.Draw()\n",
    "            chist.Draw()\n",
    "\n",
    "    for meth in methods:\n",
    "        means[meth].append(numpy.mean(estimates[meth]))\n",
    "        variances[meth].append(numpy.var(estimates[meth]))\n",
    "        biases[meth].append(numpy.mean(estimates[meth])-mu0)\n",
    "        dmeans[meth].append(math.sqrt(variances[meth][-1]/ntrials))\n",
    "        dvariances[meth].append(math.sqrt(2*variances[meth][-1]**2/(ntrials-1)))"
   ]
  },
  {
   "cell_type": "code",
   "execution_count": 4,
   "metadata": {},
   "outputs": [
    {
     "name": "stdout",
     "output_type": "stream",
     "text": [
      "('LS', [3.2140023193359379, 3.7075698242187509, 3.7796009521484377, 3.9589836425781249, 3.9134383544921878, 3.874095825195313, 3.9542036132812508, 3.9419177246093748])\n",
      "('MLE', [3.4100057373046879, 3.5100035400390635, 3.4533387451171871, 3.5899993896484381, 3.5039981689453121, 3.4220019531249992, 3.4943355712890627, 3.4875996093750001])\n",
      "('moments', [3.4100000000000001, 3.5099999999999998, 3.4533333333333336, 3.5899999999999999, 3.5039999999999991, 3.4219999999999997, 3.4943333333333326, 3.4876000000000005])\n",
      "('chi2', [3.4100074462890633, 3.6502239990234373, 3.6270561523437497, 3.7824156494140624, 3.7964746093750001, 3.7232258300781251, 3.7456596679687499, 3.7826250000000012])\n",
      "('mchi2', [3.4100074462890633, 3.246231201171875, 3.4831878662109377, 3.7076492919921873, 4.0100856933593745, 3.7866667480468745, 3.587147094726562, 3.4565217285156247])\n",
      "('binnedLH', [3.4100057373046879, 3.5100035400390635, 3.4533387451171871, 3.5735000000000001, 3.5039981689453121, 3.4220019531249992, 3.4822786865234376, 3.4822803955078125])\n"
     ]
    },
    {
     "data": {
      "image/png": "[encoded data removed]",
      "text/plain": [
       "<IPython.core.display.Image object>"
      ]
     },
     "metadata": {},
     "output_type": "display_data"
    }
   ],
   "source": [
    "# plot results\n",
    "nx = len(ntoys)\n",
    "c1 = ROOT.TCanvas(\"c1\",\"Mean\")\n",
    "c1.SetLogx()\n",
    "i=0\n",
    "gmean = {}\n",
    "tleg = ROOT.TLegend(0.6,0.15,0.9,0.4)\n",
    "tleg.SetBorderSize(0)\n",
    "for meth in methods:\n",
    "    print(meth,means[meth])\n",
    "    i=i+1\n",
    "    if i==5 or i==2:\n",
    "        i=i+1\n",
    "    gmean[meth] = ROOT.TGraphErrors(nx,array('d',ntoys),array('d',means[meth]),array('d',dntoys),array('d',dmeans[meth]))\n",
    "    gmean[meth].SetLineColor(i)\n",
    "    gmean[meth].SetMarkerColor(i)\n",
    "    gmean[meth].SetMarkerStyle(19+i)\n",
    "    if i==1:\n",
    "        gmean[meth].Draw(\"ALP\")\n",
    "    else:\n",
    "        gmean[meth].Draw(\"LP\")\n",
    "    tleg.AddEntry(gmean[meth],meth,\"LP\")\n",
    "\n",
    "tleg.Draw()\n",
    "c1.Draw()"
   ]
  },
  {
   "cell_type": "code",
   "execution_count": 5,
   "metadata": {},
   "outputs": [
    {
     "data": {
      "image/png": "[encoded data removed]",
      "text/plain": [
       "<IPython.core.display.Image object>"
      ]
     },
     "metadata": {},
     "output_type": "display_data"
    }
   ],
   "source": [
    "c2 = ROOT.TCanvas(\"c2\",\"Variance\")\n",
    "c2.SetLogx()\n",
    "c2.SetLogy()\n",
    "c1.SetLogx()\n",
    "i=0\n",
    "gvar = {}\n",
    "for meth in methods:\n",
    "    i=i+1\n",
    "    if i==5 or i==2:\n",
    "        i=i+1\n",
    "    gvar[meth] = ROOT.TGraphErrors(nx,array('d',ntoys),array('d',variances[meth]),array('d',dntoys),array('d',dvariances[meth]))\n",
    "    gvar[meth].SetLineColor(i)\n",
    "    gvar[meth].SetMarkerColor(i)\n",
    "    gvar[meth].SetMarkerStyle(19+i)\n",
    "    if i==1:\n",
    "        gvar[meth].Draw(\"ALP\")\n",
    "    else:\n",
    "        gvar[meth].Draw(\"LP\")\n",
    "gcrbound = ROOT.TGraph(nx,array('d',ntoys),array('d',crbounds))\n",
    "gcrbound.SetLineColor(ROOT.kRed+1)\n",
    "gcrbound.Draw(\"L\")\n",
    "c2.Draw()"
   ]
  },
  {
   "cell_type": "code",
   "execution_count": 6,
   "metadata": {},
   "outputs": [
    {
     "data": {
      "image/png": "[encoded data removed]",
      "text/plain": [
       "<IPython.core.display.Image object>"
      ]
     },
     "metadata": {},
     "output_type": "display_data"
    }
   ],
   "source": [
    "c3 = ROOT.TCanvas(\"c3\",\"Biases\")\n",
    "c3.SetLogx()\n",
    "c1.SetLogx()\n",
    "i=0\n",
    "gbias = {}\n",
    "for meth in methods:\n",
    "    i=i+1\n",
    "    if i==5 or i==2:\n",
    "        i=i+1\n",
    "    gbias[meth] = ROOT.TGraphErrors(nx,array('d',ntoys),array('d',biases[meth]),array('d',dntoys),array('d',dmeans[meth]))\n",
    "    gbias[meth].SetLineColor(i)\n",
    "    gbias[meth].SetMarkerColor(i)\n",
    "    gbias[meth].SetMarkerStyle(19+i)\n",
    "    if i==1:\n",
    "        gbias[meth].Draw(\"ALP\")\n",
    "    else:\n",
    "        gbias[meth].Draw(\"LP\")\n",
    "c3.Draw()"
   ]
  },
  {
   "cell_type": "code",
   "execution_count": null,
   "metadata": {},
   "outputs": [],
   "source": []
  }
 ],
 "metadata": {
  "kernelspec": {
   "display_name": "Python 2",
   "language": "python",
   "name": "python2"
  },
  "language_info": {
   "codemirror_mode": {
    "name": "ipython",
    "version": 2
   },
   "file_extension": ".py",
   "mimetype": "text/x-python",
   "name": "python",
   "nbconvert_exporter": "python",
   "pygments_lexer": "ipython2",
   "version": "2.7.12"
  }
 },
 "nbformat": 4,
 "nbformat_minor": 2
}
