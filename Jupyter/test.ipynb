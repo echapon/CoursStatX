{
 "cells": [
  {
   "cell_type": "markdown",
   "metadata": {},
   "source": [
    "# Hello world!\n",
    "\n",
    "I'm a test Markdown document.\n",
    "\n",
    "**Here's some bold text** and *here's some italic text*. `This is inline code`.\n",
    "\n",
    "# Markdown Tables\n",
    "\n",
    "First Name  |  Last Name  |  Location           |  Allegiance\n",
    "------------|-------------|---------------------|-----------------\n",
    "Mance       |  Rayder     |  North of the Wall  |  Wildlings\n",
    "Margaery    |  Tyrell     |  The Reach          |  House Tyrell\n",
    "Danerys     |  Targaryen  |  Meereen            |  House Targaryen\n",
    "Tyrion      |  Lannister  |  King's Landing     |  House Lannister\n",
    "\n",
    "# Code blocks\n",
    "\n",
    "    This code\n",
    "    is in\n",
    "    a code block.\n",
    "\n",
    "Here's a syntax-highlighted code block:\n",
    "\n",
    "```python\n",
    "#!/usr/bin/env python3\n",
    "\n",
    "import sys\n",
    "\n",
    "if __name__ == '__main__':\n",
    "    print('This is highlighted Python code!')\n",
    "    sys.exit(0)\n",
    "```\n",
    "\n",
    "# Page Layout with \\LaTeX\\ Commands\n",
    "\n",
    "Here's a forced page break.\n",
    "\n",
    "\\pagebreak\n",
    "\n",
    "# LaTeX support\n",
    "\n",
    "This document supports inline \\LaTeX!\n",
    "\n",
    "Here's the proof: $\\frac{n!}{k!(n-k)!} = \\binom{n}{k}$\n",
    "\n",
    "Creating a footnote is easy.\\footnote{An example footnote.}\n",
    "\n",
    "Here's an equation:\n",
    "\n",
    "$$\n",
    "  x = a_0 + \\cfrac{1}{a_1\n",
    "          + \\cfrac{1}{a_2\n",
    "          + \\cfrac{1}{a_3 + \\cfrac{1}{a_4} } } }\n",
    "$$\n",
    "\n",
    "Here are some numbered equations:\n",
    "\n",
    "\\begin{equation} \n",
    " f(x)=(x+a)(x+b)\n",
    "\\end{equation}\n",
    "\n",
    "\n",
    "\\begin{equation}\n",
    "5^2 - 5 = 20\n",
    "\\end{equation}\n",
    "\n",
    "\n",
    "\\begin{equation}\n",
    "a = bq + r\n",
    "\\end{equation}\n",
    "\n",
    "Here's some multi-line math stuff:\n",
    "\n",
    "$$\n",
    " u(x) =\n",
    "  \\begin{cases}\n",
    "   \\exp{x} & \\text{if } x \\geq 0 \\\\\n",
    "   1       & \\text{if } x < 0\n",
    "  \\end{cases}\n",
    "$$\n",
    "\n",
    "\\begin{align*}\n",
    " f(x) &= (x+a)(x+b) \\\\\n",
    " &= x^2 + (a+b)x + ab\n",
    "\\end{align*}"
   ]
  },
  {
   "cell_type": "code",
   "execution_count": 1,
   "metadata": {
    "scrolled": true
   },
   "outputs": [
    {
     "data": {
      "application/javascript": [
       "\n",
       "require(['notebook'],\n",
       "  function() {\n",
       "    IPython.CodeCell.config_defaults.highlight_modes['magic_text/x-c++src'] = {'reg':[/^%%cpp/]};\n",
       "    console.log(\"JupyROOT - %%cpp magic configured\");\n",
       "  }\n",
       ");\n"
      ]
     },
     "metadata": {},
     "output_type": "display_data"
    },
    {
     "name": "stdout",
     "output_type": "stream",
     "text": [
      "Welcome to JupyROOT 6.08/06\n"
     ]
    }
   ],
   "source": [
    "import ROOT"
   ]
  },
  {
   "cell_type": "code",
   "execution_count": 2,
   "metadata": {},
   "outputs": [],
   "source": [
    "h = ROOT.TH1F(\"gauss\",\"Example histogram\",100,-4,4)\n",
    "h.FillRandom(\"gaus\")"
   ]
  },
  {
   "cell_type": "code",
   "execution_count": 3,
   "metadata": {},
   "outputs": [],
   "source": [
    "c = ROOT.TCanvas(\"myCanvasName\",\"The Canvas Title\",800,600)\n",
    "h.Draw()"
   ]
  },
  {
   "cell_type": "code",
   "execution_count": 4,
   "metadata": {},
   "outputs": [
    {
     "data": {
      "image/png": "[encoded data removed]",
      "text/plain": [
       "<IPython.core.display.Image object>"
      ]
     },
     "metadata": {},
     "output_type": "display_data"
    }
   ],
   "source": [
    "c.Draw()"
   ]
  },
  {
   "cell_type": "raw",
   "metadata": {},
   "source": []
  },
  {
   "cell_type": "code",
   "execution_count": null,
   "metadata": {},
   "outputs": [],
   "source": []
  }
 ],
 "metadata": {
  "kernelspec": {
   "display_name": "Python 2",
   "language": "python",
   "name": "python2"
  },
  "language_info": {
   "codemirror_mode": {
    "name": "ipython",
    "version": 2
   },
   "file_extension": ".py",
   "mimetype": "text/x-python",
   "name": "python",
   "nbconvert_exporter": "python",
   "pygments_lexer": "ipython2",
   "version": "2.7.12"
  }
 },
 "nbformat": 4,
 "nbformat_minor": 2
}
