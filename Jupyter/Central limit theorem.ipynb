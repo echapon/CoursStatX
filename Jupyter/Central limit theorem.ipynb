{
 "cells": [
  {
   "cell_type": "code",
   "execution_count": null,
   "metadata": {},
   "outputs": [],
   "source": [
    "import ROOT"
   ]
  },
  {
   "cell_type": "code",
   "execution_count": null,
   "metadata": {},
   "outputs": [],
   "source": [
    "# number of trials to include in the sum\n",
    "nsum = 1\n",
    "\n",
    "# number of toy experiments\n",
    "ntoys = 10000\n",
    "\n",
    "# The pdf\n",
    "func = ROOT.TF1(\"uniform\",\"(x<-4)+(x>4)\",-10,10)\n",
    "#func = ROOT.TF1(\"quadratic\",\"x*x\",-10,10)\n",
    "#func = ROOT.TF1(\"Cauchy\",\"TMath::CauchyDist(x)\",-10,10)\n",
    "\n",
    "# other declarations\n",
    "histo = ROOT.TH1F(\"histo_%d_%d\" % (ntoys,nsum),\";x;Entries\",200,-10,10)\n",
    "c1 = ROOT.TCanvas()\n",
    "gRandom = ROOT.TRandom3()\n",
    "\n",
    "# loop\n",
    "for itoy in range(0,ntoys):\n",
    "    xsum = 0\n",
    "    for isum in range(0,nsum):\n",
    "        xsum = xsum + func.GetRandom()/nsum\n",
    "    histo.Fill(xsum)\n",
    "\n",
    "# draw results\n",
    "histo.Draw()\n",
    "c1.Draw()"
   ]
  },
  {
   "cell_type": "code",
   "execution_count": null,
   "metadata": {},
   "outputs": [],
   "source": []
  }
 ],
 "metadata": {
  "kernelspec": {
   "display_name": "Python 2",
   "language": "python",
   "name": "python2"
  },
  "language_info": {
   "codemirror_mode": {
    "name": "ipython",
    "version": 2
   },
   "file_extension": ".py",
   "mimetype": "text/x-python",
   "name": "python",
   "nbconvert_exporter": "python",
   "pygments_lexer": "ipython2",
   "version": "2.7.12"
  }
 },
 "nbformat": 4,
 "nbformat_minor": 2
}
